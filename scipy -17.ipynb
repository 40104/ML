{
 "cells": [
  {
   "cell_type": "code",
   "execution_count": 11,
   "id": "e936b905",
   "metadata": {},
   "outputs": [],
   "source": [
    "import sympy as sym\n",
    "x, y = sym.symbols('x y')"
   ]
  },
  {
   "cell_type": "markdown",
   "id": "1210be4a",
   "metadata": {},
   "source": [
    " Calculate √\n",
    "2 with 100 decimals"
   ]
  },
  {
   "cell_type": "code",
   "execution_count": 4,
   "id": "77e277c8",
   "metadata": {},
   "outputs": [
    {
     "data": {
      "text/latex": [
       "$\\displaystyle 1.414213562373095048801688724209698078569671875376948073176679737990732478462107038850387534327641573$"
      ],
      "text/plain": [
       "1.414213562373095048801688724209698078569671875376948073176679737990732478462107038850387534327641573"
      ]
     },
     "execution_count": 4,
     "metadata": {},
     "output_type": "execute_result"
    }
   ],
   "source": [
    "sym.sqrt(2).evalf(100)"
   ]
  },
  {
   "cell_type": "markdown",
   "id": "5941fbd1",
   "metadata": {},
   "source": [
    "Calculate 1/2 + 1/3 in rational arithmetic."
   ]
  },
  {
   "cell_type": "code",
   "execution_count": 6,
   "id": "2664dc6a",
   "metadata": {},
   "outputs": [
    {
     "data": {
      "text/latex": [
       "$\\displaystyle \\frac{5}{6}$"
      ],
      "text/plain": [
       "5/6"
      ]
     },
     "execution_count": 6,
     "metadata": {},
     "output_type": "execute_result"
    }
   ],
   "source": [
    "sym.Rational(1, 2) + sym.Rational(1, 3)"
   ]
  },
  {
   "cell_type": "markdown",
   "id": "0747e4dc",
   "metadata": {},
   "source": [
    "Calculate the expanded form of (𝑥 + 𝑦)\n",
    "6\n",
    ".\n"
   ]
  },
  {
   "cell_type": "code",
   "execution_count": 13,
   "id": "593757ac",
   "metadata": {},
   "outputs": [
    {
     "data": {
      "text/latex": [
       "$\\displaystyle x^{6} + 6 x^{5} y + 15 x^{4} y^{2} + 20 x^{3} y^{3} + 15 x^{2} y^{4} + 6 x y^{5} + y^{6}$"
      ],
      "text/plain": [
       "x**6 + 6*x**5*y + 15*x**4*y**2 + 20*x**3*y**3 + 15*x**2*y**4 + 6*x*y**5 + y**6"
      ]
     },
     "execution_count": 13,
     "metadata": {},
     "output_type": "execute_result"
    }
   ],
   "source": [
    "sym.expand((x + y) ** 6)"
   ]
  },
  {
   "cell_type": "markdown",
   "id": "4d72835a",
   "metadata": {},
   "source": [
    "Simplify the trigonometric expression sin(𝑥)/ cos(𝑥)"
   ]
  },
  {
   "cell_type": "code",
   "execution_count": 14,
   "id": "c621c45d",
   "metadata": {},
   "outputs": [
    {
     "data": {
      "text/latex": [
       "$\\displaystyle \\tan{\\left(x \\right)}$"
      ],
      "text/plain": [
       "tan(x)"
      ]
     },
     "execution_count": 14,
     "metadata": {},
     "output_type": "execute_result"
    }
   ],
   "source": [
    "sym.simplify(sym.sin(x) / sym.cos(x))"
   ]
  },
  {
   "cell_type": "markdown",
   "id": "4b5826ea",
   "metadata": {},
   "source": [
    "Calculate lim𝑥→0 sin(𝑥)/𝑥"
   ]
  },
  {
   "cell_type": "code",
   "execution_count": 16,
   "id": "84770008",
   "metadata": {},
   "outputs": [
    {
     "data": {
      "text/latex": [
       "$\\displaystyle 0$"
      ],
      "text/plain": [
       "0"
      ]
     },
     "execution_count": 16,
     "metadata": {},
     "output_type": "execute_result"
    }
   ],
   "source": [
    "sym.limit(sym.sin(x) / x, x, sym.oo)"
   ]
  },
  {
   "cell_type": "markdown",
   "id": "e096efbf",
   "metadata": {},
   "source": [
    "Calculate the derivative of 𝑙𝑜𝑔(𝑥) for 𝑥"
   ]
  },
  {
   "cell_type": "code",
   "execution_count": 17,
   "id": "21b4eba6",
   "metadata": {},
   "outputs": [
    {
     "data": {
      "text/latex": [
       "$\\displaystyle \\frac{1}{x}$"
      ],
      "text/plain": [
       "1/x"
      ]
     },
     "execution_count": 17,
     "metadata": {},
     "output_type": "execute_result"
    }
   ],
   "source": [
    "sym.diff(sym.ln(x), x)"
   ]
  },
  {
   "cell_type": "markdown",
   "id": "5cfb0343",
   "metadata": {},
   "source": [
    " Solve the system of equations 𝑥 + 𝑦 = 2, 2 · 𝑥 + 𝑦 = 0"
   ]
  },
  {
   "cell_type": "code",
   "execution_count": 18,
   "id": "aa514e5c",
   "metadata": {},
   "outputs": [
    {
     "data": {
      "text/plain": [
       "{x: -2, y: 4}"
      ]
     },
     "execution_count": 18,
     "metadata": {},
     "output_type": "execute_result"
    }
   ],
   "source": [
    "sym.solve((x + y - 2, 2 * x + y), (x, y))"
   ]
  },
  {
   "cell_type": "markdown",
   "id": "ba711296",
   "metadata": {},
   "source": [
    "Are there boolean values x, y that make (~ x | y) & (~ y | x) true?"
   ]
  },
  {
   "cell_type": "code",
   "execution_count": 19,
   "id": "2ec865d3",
   "metadata": {},
   "outputs": [
    {
     "data": {
      "text/plain": [
       "{y: False, x: False}"
      ]
     },
     "execution_count": 19,
     "metadata": {},
     "output_type": "execute_result"
    }
   ],
   "source": [
    "sym.satisfiable((~x | y) & (~y | x))"
   ]
  },
  {
   "cell_type": "markdown",
   "id": "2549cff1",
   "metadata": {},
   "source": [
    "Solve the Bernoulli differential equation\n",
    "𝑥*𝑑𝑓(𝑥)/𝑥 + 𝑓(𝑥) − 𝑓(𝑥)^2 = 0\n"
   ]
  },
  {
   "cell_type": "code",
   "execution_count": 21,
   "id": "dd2d6dc5",
   "metadata": {},
   "outputs": [
    {
     "data": {
      "text/latex": [
       "$\\displaystyle f{\\left(x \\right)} = - \\frac{C_{1}}{- C_{1} + x}$"
      ],
      "text/plain": [
       "Eq(f(x), -C1/(-C1 + x))"
      ]
     },
     "execution_count": 21,
     "metadata": {},
     "output_type": "execute_result"
    }
   ],
   "source": [
    "function = sym.Function('f')\n",
    "sym.dsolve(x * function(x).diff(x) + function(x) - function(x) ** 2, function(x))"
   ]
  },
  {
   "cell_type": "markdown",
   "id": "917dbe28",
   "metadata": {},
   "source": [
    "Solve the same equation using hint='Bernoulli'. What do you observe ?"
   ]
  },
  {
   "cell_type": "code",
   "execution_count": 22,
   "id": "6264c6e3",
   "metadata": {},
   "outputs": [
    {
     "data": {
      "text/latex": [
       "$\\displaystyle f{\\left(x \\right)} = \\frac{1}{C_{1} x + 1}$"
      ],
      "text/plain": [
       "Eq(f(x), 1/(C1*x + 1))"
      ]
     },
     "execution_count": 22,
     "metadata": {},
     "output_type": "execute_result"
    }
   ],
   "source": [
    "function = sym.Function('f')\n",
    "sym.dsolve(x * function(x).diff(x) + function(x) - function(x) ** 2, function(x), hint=\"Bernoulli\")"
   ]
  },
  {
   "cell_type": "code",
   "execution_count": null,
   "id": "89731ac1",
   "metadata": {},
   "outputs": [],
   "source": []
  }
 ],
 "metadata": {
  "kernelspec": {
   "display_name": "Python 3 (ipykernel)",
   "language": "python",
   "name": "python3"
  },
  "language_info": {
   "codemirror_mode": {
    "name": "ipython",
    "version": 3
   },
   "file_extension": ".py",
   "mimetype": "text/x-python",
   "name": "python",
   "nbconvert_exporter": "python",
   "pygments_lexer": "ipython3",
   "version": "3.9.7"
  }
 },
 "nbformat": 4,
 "nbformat_minor": 5
}
